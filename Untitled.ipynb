{
 "cells": [
  {
   "cell_type": "markdown",
   "id": "6175c0ff",
   "metadata": {},
   "source": [
    "# Predictive Analysis and Conclusions"
   ]
  },
  {
   "cell_type": "markdown",
   "id": "401b1110",
   "metadata": {},
   "source": [
    "## Using Machine Learning as a tool"
   ]
  },
  {
   "cell_type": "code",
   "execution_count": null,
   "id": "0aca997f",
   "metadata": {},
   "outputs": [],
   "source": [
    "# We want to be able to use the machine learning in linear regression to predict the APR of a school based on their"
   ]
  },
  {
   "cell_type": "code",
   "execution_count": null,
   "id": "da68ce83",
   "metadata": {},
   "outputs": [],
   "source": []
  }
 ],
 "metadata": {
  "kernelspec": {
   "display_name": "Python 3 (ipykernel)",
   "language": "python",
   "name": "python3"
  },
  "language_info": {
   "codemirror_mode": {
    "name": "ipython",
    "version": 3
   },
   "file_extension": ".py",
   "mimetype": "text/x-python",
   "name": "python",
   "nbconvert_exporter": "python",
   "pygments_lexer": "ipython3",
   "version": "3.11.5"
  }
 },
 "nbformat": 4,
 "nbformat_minor": 5
}
